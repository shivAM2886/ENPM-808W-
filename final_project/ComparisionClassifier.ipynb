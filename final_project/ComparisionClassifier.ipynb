{
 "cells": [
  {
   "cell_type": "code",
   "execution_count": 1,
   "metadata": {},
   "outputs": [],
   "source": [
    "# All Imports needed for this section of code\n",
    "import pandas as pd\n",
    "import numpy as np\n",
    "import matplotlib.pyplot as plt\n",
    "import seaborn as sns"
   ]
  },
  {
   "cell_type": "code",
   "execution_count": 2,
   "metadata": {},
   "outputs": [
    {
     "name": "stdout",
     "output_type": "stream",
     "text": [
      "<class 'pandas.core.frame.DataFrame'>\n",
      "RangeIndex: 205533 entries, 0 to 205532\n",
      "Data columns (total 13 columns):\n",
      "case_status                205533 non-null object\n",
      "agent_state                58961 non-null object\n",
      "case_received_date_YEAR    70261 non-null float64\n",
      "class_of_admission         194690 non-null object\n",
      "country_of_citizenship     205503 non-null object\n",
      "employer_state             205511 non-null object\n",
      "application_type           135269 non-null object\n",
      "decision_date              205533 non-null object\n",
      "education_level            70258 non-null object\n",
      "job_major                  64085 non-null object\n",
      "economic_sector            129068 non-null object\n",
      "ctc                        205476 non-null object\n",
      "ctc_unit                   160716 non-null object\n",
      "dtypes: float64(1), object(12)\n",
      "memory usage: 20.4+ MB\n"
     ]
    },
    {
     "name": "stderr",
     "output_type": "stream",
     "text": [
      "c:\\users\\justin\\appdata\\local\\programs\\python\\python37\\lib\\site-packages\\IPython\\core\\interactiveshell.py:3051: DtypeWarning: Columns (1,6,8,9,10,11) have mixed types. Specify dtype option on import or set low_memory=False.\n",
      "  interactivity=interactivity, compiler=compiler, result=result)\n"
     ]
    }
   ],
   "source": [
    "# Read in our data (after InitialCleanUp.py, then InitialCleanUp_2.R)\n",
    "df = pd.read_csv('us_perm_visas.csv')\n",
    "df.info()"
   ]
  },
  {
   "cell_type": "code",
   "execution_count": 3,
   "metadata": {},
   "outputs": [
    {
     "name": "stdout",
     "output_type": "stream",
     "text": [
      "<class 'pandas.core.frame.DataFrame'>\n",
      "RangeIndex: 205533 entries, 0 to 205532\n",
      "Data columns (total 13 columns):\n",
      "case_status                205533 non-null object\n",
      "agent_state                205533 non-null object\n",
      "case_received_date_YEAR    205533 non-null object\n",
      "class_of_admission         205533 non-null object\n",
      "country_of_citizenship     205533 non-null object\n",
      "employer_state             205533 non-null object\n",
      "application_type           205533 non-null object\n",
      "decision_date              205533 non-null object\n",
      "education_level            205533 non-null object\n",
      "job_major                  205533 non-null object\n",
      "economic_sector            205533 non-null object\n",
      "ctc                        205533 non-null object\n",
      "ctc_unit                   205533 non-null object\n",
      "dtypes: object(13)\n",
      "memory usage: 20.4+ MB\n"
     ]
    }
   ],
   "source": [
    "# Replase NAs with a new categorical value\n",
    "missing_term = ['cs', 'as', 'crdy', 'coa', 'coc', 'es', 'at', 'dd', 'el', 'jm', 'es', 'ctc', 'ctcu']\n",
    "for i in range(13):\n",
    "    df.iloc[:,i].fillna('missing'+missing_term[i], inplace = True)\n",
    "df.info()"
   ]
  },
  {
   "cell_type": "code",
   "execution_count": 4,
   "metadata": {},
   "outputs": [
    {
     "name": "stdout",
     "output_type": "stream",
     "text": [
      "case_status\n",
      "1            86.318985\n",
      "0             8.375784\n",
      "Withdrawn     5.305231\n",
      "Name: case_status, dtype: float64\n",
      "--------------------\n",
      "agent_state\n",
      "missingas    71.313122\n",
      "ca            7.661543\n",
      "ny            3.642237\n",
      "tx            2.614179\n",
      "ma            1.571524\n",
      "il            1.435293\n",
      "ga            1.424102\n",
      "mi            1.291763\n",
      "nj            1.094228\n",
      "va            1.050926\n",
      "az            0.950699\n",
      "pa            0.782843\n",
      "md            0.722025\n",
      "fl            0.678723\n",
      "dc            0.611094\n",
      "oh            0.510867\n",
      "nc            0.504542\n",
      "co            0.291437\n",
      "mn            0.255920\n",
      "ct            0.212618\n",
      "wa            0.193156\n",
      "mo            0.156179\n",
      "wi            0.099741\n",
      "tn            0.097308\n",
      "ne            0.096335\n",
      "or            0.094875\n",
      "la            0.078819\n",
      "ut            0.054979\n",
      "sc            0.054492\n",
      "in            0.047681\n",
      "al            0.042329\n",
      "ks            0.041842\n",
      "ok            0.041842\n",
      "vt            0.034544\n",
      "nh            0.030165\n",
      "ky            0.027733\n",
      "ia            0.026273\n",
      "ar            0.025787\n",
      "me            0.022867\n",
      "gu            0.020921\n",
      "nm            0.017515\n",
      "hi            0.013623\n",
      "ri            0.012650\n",
      "de            0.010704\n",
      "ms            0.010217\n",
      "pr            0.008271\n",
      "nv            0.005838\n",
      "ak            0.003892\n",
      "id            0.002433\n",
      "nd            0.002433\n",
      "sd            0.001946\n",
      "mt            0.001460\n",
      "wv            0.000973\n",
      "mh            0.000487\n",
      "Name: agent_state, dtype: float64\n",
      "--------------------\n",
      "case_received_date_YEAR\n",
      "missingcrdy    65.815222\n",
      "2014.0         22.896566\n",
      "2013.0          5.609318\n",
      "2015.0          5.136401\n",
      "2012.0          0.258839\n",
      "2011.0          0.125041\n",
      "2010.0          0.082225\n",
      "2009.0          0.055466\n",
      "2008.0          0.019462\n",
      "2007.0          0.000973\n",
      "2006.0          0.000487\n",
      "Name: case_received_date_YEAR, dtype: float64\n",
      "--------------------\n",
      "class_of_admission\n",
      "H-1B          79.065649\n",
      "missingcoa     5.275552\n",
      "L-1            4.669810\n",
      "F-1            3.119694\n",
      "Not in USA     1.199807\n",
      "Parolee        1.056278\n",
      "E-2            1.040709\n",
      "TN             0.973566\n",
      "B-2            0.880151\n",
      "EWI            0.652937\n",
      "J-1            0.215051\n",
      "H-4            0.214564\n",
      "F-2            0.210672\n",
      "E-3            0.195102\n",
      "O-1            0.190237\n",
      "H-1B1          0.166883\n",
      "B-1            0.159585\n",
      "E-1            0.142556\n",
      "L-2            0.114823\n",
      "H-2B           0.090496\n",
      "P-1            0.036490\n",
      "A1/A2          0.034544\n",
      "TPS            0.034058\n",
      "H-2A           0.033085\n",
      "R-1            0.029679\n",
      "G-4            0.029192\n",
      "I              0.019462\n",
      "J-2            0.017515\n",
      "G-5            0.017515\n",
      "VWT            0.015569\n",
      "C-1            0.014596\n",
      "H-1A           0.012650\n",
      "H-3            0.009731\n",
      "A-3            0.008758\n",
      "P-3            0.008758\n",
      "M-1            0.005838\n",
      "O-2            0.004379\n",
      "TD             0.003892\n",
      "H-1C           0.003892\n",
      "VWB            0.003406\n",
      "Parol          0.002919\n",
      "G-1            0.002919\n",
      "O-3            0.002433\n",
      "D-1            0.001460\n",
      "T-1            0.001460\n",
      "N              0.001460\n",
      "Q              0.001460\n",
      "R-2            0.001460\n",
      "P-4            0.001460\n",
      "C-3            0.000973\n",
      "U-1            0.000973\n",
      "K-1            0.000973\n",
      "AOS/H-1B       0.000973\n",
      "V-2            0.000487\n",
      "AOS            0.000487\n",
      "H1B            0.000487\n",
      "P-2            0.000487\n",
      "Name: class_of_admission, dtype: float64\n",
      "--------------------\n",
      "country_of_citizenship\n",
      "INDIA                     55.419811\n",
      "CHINA                      6.980874\n",
      "SOUTH KOREA                5.545095\n",
      "CANADA                     4.321447\n",
      "PHILIPPINES                2.695431\n",
      "                            ...    \n",
      "KIRIBATI                   0.000487\n",
      "BRITISH VIRGIN ISLANDS     0.000487\n",
      "QATAR                      0.000487\n",
      "SEYCHELLES                 0.000487\n",
      "SAMOA                      0.000487\n",
      "Name: country_of_citizenship, Length: 192, dtype: float64\n",
      "--------------------\n",
      "employer_state\n",
      "ca           24.821318\n",
      "tx           11.575270\n",
      "nj            8.158787\n",
      "ny            7.894109\n",
      "il            4.507792\n",
      "wa            4.351126\n",
      "ma            3.558066\n",
      "va            3.312850\n",
      "pa            3.312363\n",
      "mi            3.270034\n",
      "fl            2.967893\n",
      "ga            2.744571\n",
      "nc            1.961242\n",
      "oh            1.767599\n",
      "md            1.701430\n",
      "ct            1.039736\n",
      "az            0.925399\n",
      "mo            0.885989\n",
      "wi            0.865068\n",
      "mn            0.785275\n",
      "in            0.762895\n",
      "co            0.754623\n",
      "al            0.681156\n",
      "sc            0.598444\n",
      "tn            0.574117\n",
      "dc            0.505515\n",
      "ks            0.461726\n",
      "ky            0.455401\n",
      "ia            0.419397\n",
      "ar            0.374149\n",
      "de            0.365878\n",
      "la            0.337659\n",
      "ne            0.325982\n",
      "ut            0.322089\n",
      "or            0.308466\n",
      "ok            0.231106\n",
      "ms            0.219916\n",
      "nv            0.207753\n",
      "nh            0.194129\n",
      "nm            0.193643\n",
      "ri            0.193643\n",
      "id            0.180506\n",
      "vt            0.152287\n",
      "nd            0.117743\n",
      "me            0.110931\n",
      "wv            0.097308\n",
      "sd            0.093416\n",
      "hi            0.081739\n",
      "gu            0.081252\n",
      "pr            0.049627\n",
      "wy            0.035517\n",
      "ak            0.030652\n",
      "mt            0.029679\n",
      "vi            0.022867\n",
      "missinges     0.010704\n",
      "mp            0.010217\n",
      "bc            0.001460\n",
      "mh            0.000487\n",
      "Name: employer_state, dtype: float64\n",
      "--------------------\n",
      "application_type\n",
      "ONLINE       54.766874\n",
      "missingat    34.186238\n",
      "PERM         10.011044\n",
      "MAILEDIN      1.035843\n",
      "Name: application_type, dtype: float64\n",
      "--------------------\n",
      "decision_date\n",
      "7/30/2015     0.374636\n",
      "10/16/2012    0.343497\n",
      "9/18/2015     0.340578\n",
      "8/28/2015     0.338145\n",
      "11/6/2012     0.325009\n",
      "                ...   \n",
      "3/18/2012     0.000487\n",
      "3/11/2012     0.000487\n",
      "12/1/2012     0.000487\n",
      "6/22/2013     0.000487\n",
      "1/19/2013     0.000487\n",
      "Name: decision_date, Length: 1026, dtype: float64\n",
      "--------------------\n",
      "education_level\n",
      "missingel      65.816682\n",
      "Master's       15.527920\n",
      "Bachelor's     12.407740\n",
      "None            1.948592\n",
      "Doctorate       1.896532\n",
      "Other           1.508274\n",
      "High School     0.537140\n",
      "Associate's     0.357120\n",
      "Name: education_level, dtype: float64\n",
      "--------------------\n",
      "job_major\n",
      "missingjm                                                             68.820092\n",
      "Computer Science                                                       3.168348\n",
      "Comp Sci, Sci, Eng (any), Math or Bus                                  2.487192\n",
      "Medicine                                                               0.615473\n",
      "Business Administration                                                0.580929\n",
      "                                                                        ...    \n",
      "Electrical, Instrumentation, Biomedical or Computer Engineering        0.000487\n",
      "Fin/Mgmt/Econ/Ops Rsrch/rltd fld invlving computational anlytics       0.000487\n",
      "Engineering/Software                                                   0.000487\n",
      "Public Health, Heath Sys Mgmt, Global Health, Health Eqty, or rel.     0.000487\n",
      "Finance, Business Administration, or a related field.                  0.000487\n",
      "Name: job_major, Length: 19094, dtype: float64\n",
      "--------------------\n",
      "economic_sector\n",
      "missinges                37.203271\n",
      "IT                       25.600269\n",
      "Advanced Mfg              9.122136\n",
      "Other Economic Sector     7.686357\n",
      "Finance                   4.487844\n",
      "Educational Services      4.442109\n",
      "Health Care               3.320635\n",
      "Retail                    2.144668\n",
      "Aerospace                 2.026925\n",
      "Hospitality               0.937076\n",
      "Construction              0.685535\n",
      "Automotive                0.565846\n",
      "Energy                    0.528382\n",
      "Transportation            0.461726\n",
      "Agribusiness              0.456861\n",
      "Biotechnology             0.221862\n",
      "Geospatial                0.068602\n",
      "Homeland Security         0.039896\n",
      "Name: economic_sector, dtype: float64\n",
      "--------------------\n",
      "ctc\n",
      "72,467.00    1.135098\n",
      "90000.0      0.817387\n",
      "54,059.00    0.629583\n",
      "95000.0      0.622771\n",
      "100000.0     0.607202\n",
      "               ...   \n",
      "91,887.00    0.000487\n",
      "168958.4     0.000487\n",
      "37897.6      0.000487\n",
      "103435.83    0.000487\n",
      "98440.16     0.000487\n",
      "Name: ctc, Length: 36347, dtype: float64\n",
      "--------------------\n",
      "ctc_unit\n",
      "Year           66.723105\n",
      "missingctcu    21.805258\n",
      "yr              9.600891\n",
      "Hour            1.394423\n",
      "hr              0.379988\n",
      "Week            0.039410\n",
      "Month           0.025787\n",
      "wk              0.014596\n",
      "mth             0.010217\n",
      "bi              0.004379\n",
      "Bi-Weekly       0.001946\n",
      "Name: ctc_unit, dtype: float64\n",
      "--------------------\n"
     ]
    }
   ],
   "source": [
    "# Print information about the data contained\n",
    "column_names = df.columns\n",
    "for i in range(13):\n",
    "    print(column_names[i])\n",
    "    print(df.iloc[:,i].value_counts()*100/len(df))\n",
    "    print(\"--------------------\")"
   ]
  },
  {
   "cell_type": "code",
   "execution_count": 5,
   "metadata": {},
   "outputs": [
    {
     "data": {
      "image/png": "[encoded data removed]",
      "text/plain": [
       "<Figure size 432x288 with 1 Axes>"
      ]
     },
     "metadata": {},
     "output_type": "display_data"
    }
   ],
   "source": [
    "# Plotting pie chart of Accepted vs. Denied cases (ignoring other values)\n",
    "df = df[df['case_status'] != 'Withdrawn']\n",
    "df['case_status'].astype(np.int64)\n",
    "\n",
    "fig, ax = plt.subplots(1,1)\n",
    "ax.pie(df.case_status.value_counts(),explode=(0,0.2), autopct='%1.1f%%', labels = ['Accepted (1)', 'Denied (0)'], colors=['y','r'])\n",
    "plt.axis = 'equal'"
   ]
  },
  {
   "cell_type": "code",
   "execution_count": 6,
   "metadata": {},
   "outputs": [
    {
     "data": {
      "text/plain": [
       "H-1B         79.259514\n",
       "other_coa    20.740486\n",
       "Name: class_of_admission, dtype: float64"
      ]
     },
     "execution_count": 6,
     "metadata": {},
     "output_type": "execute_result"
    }
   ],
   "source": [
    "# Relabel class of admission to H-1B and Other (because most of the data was H-1B)\n",
    "# 1 for H-1B type of visa and 0 for others\n",
    "def class_of_admission(x):\n",
    "    x = str(x)\n",
    "    if x == 'H-1B' or x =='H1B':\n",
    "        return 'H-1B'\n",
    "    else:\n",
    "        return 'other_coa'\n",
    "    \n",
    "df['class_of_admission'] = df['class_of_admission'].apply(lambda x: class_of_admission(x))\n",
    "df['class_of_admission'].value_counts()*100/len(df)"
   ]
  },
  {
   "cell_type": "code",
   "execution_count": 7,
   "metadata": {},
   "outputs": [
    {
     "data": {
      "text/plain": [
       "missinges    37.898258\n",
       "other_es     36.765847\n",
       "IT           25.335895\n",
       "Name: economic_sector, dtype: float64"
      ]
     },
     "execution_count": 7,
     "metadata": {},
     "output_type": "execute_result"
    }
   ],
   "source": [
    "# Relabel data from US economic sector into either IT, or Other\n",
    "def economic_sector(x):\n",
    "    x = str(x)\n",
    "    if x == 'missinges' or x == 'IT':\n",
    "        return x\n",
    "    else:\n",
    "        return 'other_es'\n",
    "    \n",
    "df['economic_sector'] = df['economic_sector'].apply(lambda x: economic_sector(x))\n",
    "df['economic_sector'].value_counts()*100/len(df)"
   ]
  },
  {
   "cell_type": "code",
   "execution_count": 8,
   "metadata": {},
   "outputs": [],
   "source": [
    "# Drop fields we realised we didn't need\n",
    "df = df.drop(columns = ['agent_state', 'decision_date', 'job_major'])"
   ]
  },
  {
   "cell_type": "code",
   "execution_count": 9,
   "metadata": {},
   "outputs": [
    {
     "name": "stdout",
     "output_type": "stream",
     "text": [
      "<class 'pandas.core.frame.DataFrame'>\n",
      "Int64Index: 194629 entries, 0 to 205532\n",
      "Data columns (total 10 columns):\n",
      "case_status                194629 non-null object\n",
      "case_received_date_YEAR    194629 non-null object\n",
      "class_of_admission         194629 non-null object\n",
      "country_of_citizenship     194629 non-null object\n",
      "employer_state             194629 non-null object\n",
      "application_type           194629 non-null object\n",
      "education_level            194629 non-null object\n",
      "economic_sector            194629 non-null object\n",
      "ctc                        194629 non-null object\n",
      "ctc_unit                   194629 non-null object\n",
      "dtypes: object(10)\n",
      "memory usage: 16.3+ MB\n"
     ]
    }
   ],
   "source": [
    "# What's left is shown.\n",
    "df.info()"
   ]
  },
  {
   "cell_type": "code",
   "execution_count": 10,
   "metadata": {},
   "outputs": [],
   "source": [
    "# Typecast data\n",
    "df[['class_of_admission', 'country_of_citizenship', 'employer_state', 'application_type', 'education_level', 'economic_sector']] = df[['class_of_admission', 'country_of_citizenship', 'employer_state', 'application_type', 'education_level', 'economic_sector']].astype('|S')"
   ]
  },
  {
   "cell_type": "code",
   "execution_count": 11,
   "metadata": {},
   "outputs": [],
   "source": [
    "# Change the format of the year to 0 if empty\n",
    "def change_year_format(x):\n",
    "    if str(x) == 'missingcrdy':\n",
    "        return 0\n",
    "    else:\n",
    "        return np.int64(x)\n",
    "\n",
    "df['case_received_date_YEAR'] = df['case_received_date_YEAR'].apply(lambda x: change_year_format(x))"
   ]
  },
  {
   "cell_type": "code",
   "execution_count": 12,
   "metadata": {},
   "outputs": [],
   "source": [
    "# Compute the mean wage\n",
    "def mean_ctc(array):\n",
    "    sum_ctc = 0\n",
    "    count = 0\n",
    "    for ctc in array:\n",
    "        ctc = str(ctc)\n",
    "        try:\n",
    "            ctc = np.float64(ctc.replace(',',''))\n",
    "            sum_ctc = sum_ctc + ctc\n",
    "            count = count + 1\n",
    "        except:\n",
    "            continue\n",
    "    return np.float64(sum_ctc/count)\n",
    "            \n",
    "array = df['ctc'].values\n",
    "mean_ctc = mean_ctc(array)"
   ]
  },
  {
   "cell_type": "code",
   "execution_count": 13,
   "metadata": {},
   "outputs": [
    {
     "name": "stdout",
     "output_type": "stream",
     "text": [
      "93369.5196561726\n"
     ]
    }
   ],
   "source": [
    "print(mean_ctc)"
   ]
  },
  {
   "cell_type": "code",
   "execution_count": 14,
   "metadata": {},
   "outputs": [],
   "source": [
    "# Replace our Na values with the mean\n",
    "def modify_ctc(x):\n",
    "    try:\n",
    "        x = str(x) \n",
    "        x = x.replace(',','')\n",
    "        x = np.float64(x)\n",
    "    except:\n",
    "        x = mean_ctc\n",
    "    return x\n",
    "\n",
    "df['ctc'] = df['ctc'].apply(lambda x: modify_ctc(x))"
   ]
  },
  {
   "cell_type": "code",
   "execution_count": 15,
   "metadata": {},
   "outputs": [],
   "source": [
    "# Typecast results\n",
    "df[['case_status', 'ctc']] = df[['case_status', 'ctc']].astype(np.int64)\n",
    "\n",
    "df = df[(df['ctc_unit'] == 'Year') | (df['ctc_unit'] == 'yr')]\n",
    "df = df.drop(columns = ['ctc_unit'])\n"
   ]
  },
  {
   "cell_type": "code",
   "execution_count": 16,
   "metadata": {},
   "outputs": [
    {
     "name": "stdout",
     "output_type": "stream",
     "text": [
      "<class 'pandas.core.frame.DataFrame'>\n",
      "Int64Index: 149341 entries, 0 to 205531\n",
      "Data columns (total 9 columns):\n",
      "case_status                149341 non-null int64\n",
      "case_received_date_YEAR    149341 non-null int64\n",
      "class_of_admission         149341 non-null object\n",
      "country_of_citizenship     149341 non-null object\n",
      "employer_state             149341 non-null object\n",
      "application_type           149341 non-null object\n",
      "education_level            149341 non-null object\n",
      "economic_sector            149341 non-null object\n",
      "ctc                        149341 non-null int64\n",
      "dtypes: int64(3), object(6)\n",
      "memory usage: 11.4+ MB\n"
     ]
    }
   ],
   "source": [
    "df.info()"
   ]
  },
  {
   "cell_type": "code",
   "execution_count": 17,
   "metadata": {},
   "outputs": [],
   "source": [
    "# Create our encoders\n",
    "from sklearn import preprocessing \n",
    "label_encoder = preprocessing.LabelEncoder() \n",
    "for i in range(2,8):\n",
    "    label_encoder = label_encoder.fit(df.iloc[:,i].astype(str))\n",
    "    df.iloc[:,i] = label_encoder.transform(df.iloc[:,i].astype(str))"
   ]
  },
  {
   "cell_type": "code",
   "execution_count": 18,
   "metadata": {},
   "outputs": [],
   "source": [
    "# remove case_status (the thing we want to estimate) and keep in separate data frame\n",
    "X = df.drop(columns = ['case_status'])\n",
    "X = X.values\n",
    "\n",
    "y = df['case_status'].values"
   ]
  },
  {
   "cell_type": "code",
   "execution_count": 19,
   "metadata": {},
   "outputs": [],
   "source": [
    "# Create our datasets for training and testing\n",
    "from sklearn.model_selection import train_test_split\n",
    "X_train, X_test, y_train, y_test = train_test_split(X, y, test_size=0.3, random_state=42)"
   ]
  },
  {
   "cell_type": "code",
   "execution_count": 20,
   "metadata": {},
   "outputs": [
    {
     "name": "stdout",
     "output_type": "stream",
     "text": [
      "Counter({1: 41870, 0: 2933})\n"
     ]
    }
   ],
   "source": [
    "# Get our data splits\n",
    "from collections import Counter\n",
    "print(Counter(y_test))"
   ]
  },
  {
   "cell_type": "code",
   "execution_count": 21,
   "metadata": {},
   "outputs": [
    {
     "name": "stdout",
     "output_type": "stream",
     "text": [
      "Counter({1: 97416, 0: 7122})\n"
     ]
    }
   ],
   "source": [
    "# Get our data splits\n",
    "print(Counter(y_train))"
   ]
  },
  {
   "cell_type": "code",
   "execution_count": 22,
   "metadata": {},
   "outputs": [
    {
     "name": "stdout",
     "output_type": "stream",
     "text": [
      "perc_correct>>  7.057620184111831\n",
      "accuracy_Score>>  93.71693859786176\n"
     ]
    }
   ],
   "source": [
    "# Create function to score our output after creating a decision tree classifier.\n",
    "from sklearn.metrics import accuracy_score\n",
    "def perc_correct(y_true, y_pred):\n",
    "    count = 0\n",
    "    correct = 0\n",
    "    for i in range(len(y_true)):\n",
    "        if y_true[i] == 0:\n",
    "            count = count + 1\n",
    "            if y_true[i] == y_pred[i]:\n",
    "                correct += 1\n",
    "    return correct*100/count\n",
    "\n",
    "from sklearn.tree import DecisionTreeClassifier\n",
    "y_true = y_test\n",
    "\n",
    "clf = DecisionTreeClassifier(criterion = 'entropy',max_depth = 5, random_state=28).fit(X_train, y_train)\n",
    "y_pred = clf.predict(X_test)\n",
    "print('perc_correct>> ',perc_correct(y_true, y_pred))\n",
    "print('accuracy_Score>> ', accuracy_score(y_true, y_pred)*100)"
   ]
  },
  {
   "cell_type": "code",
   "execution_count": 23,
   "metadata": {},
   "outputs": [
    {
     "name": "stdout",
     "output_type": "stream",
     "text": [
      "<class 'pandas.core.frame.DataFrame'>\n",
      "Int64Index: 149341 entries, 0 to 205531\n",
      "Data columns (total 9 columns):\n",
      "case_status                149341 non-null int64\n",
      "case_received_date_YEAR    149341 non-null int64\n",
      "class_of_admission         149341 non-null int32\n",
      "country_of_citizenship     149341 non-null int32\n",
      "employer_state             149341 non-null int32\n",
      "application_type           149341 non-null int32\n",
      "education_level            149341 non-null int32\n",
      "economic_sector            149341 non-null int32\n",
      "ctc                        149341 non-null int64\n",
      "dtypes: int32(6), int64(3)\n",
      "memory usage: 8.0 MB\n"
     ]
    }
   ],
   "source": [
    "df_undersample = df\n",
    "df_undersample.info()"
   ]
  },
  {
   "cell_type": "code",
   "execution_count": 24,
   "metadata": {},
   "outputs": [
    {
     "name": "stdout",
     "output_type": "stream",
     "text": [
      "<class 'pandas.core.frame.DataFrame'>\n",
      "Int64Index: 10055 entries, 1 to 205379\n",
      "Data columns (total 9 columns):\n",
      "case_status                10055 non-null int64\n",
      "case_received_date_YEAR    10055 non-null int64\n",
      "class_of_admission         10055 non-null int32\n",
      "country_of_citizenship     10055 non-null int32\n",
      "employer_state             10055 non-null int32\n",
      "application_type           10055 non-null int32\n",
      "education_level            10055 non-null int32\n",
      "economic_sector            10055 non-null int32\n",
      "ctc                        10055 non-null int64\n",
      "dtypes: int32(6), int64(3)\n",
      "memory usage: 549.9 KB\n"
     ]
    }
   ],
   "source": [
    "# Create two new datasets containing our Denied cases\n",
    "dfu_0 = df_undersample[df_undersample['case_status'] == 0]\n",
    "dfu_0.info()"
   ]
  },
  {
   "cell_type": "code",
   "execution_count": 25,
   "metadata": {},
   "outputs": [
    {
     "name": "stdout",
     "output_type": "stream",
     "text": [
      "<class 'pandas.core.frame.DataFrame'>\n",
      "Int64Index: 139286 entries, 0 to 205531\n",
      "Data columns (total 9 columns):\n",
      "case_status                139286 non-null int64\n",
      "case_received_date_YEAR    139286 non-null int64\n",
      "class_of_admission         139286 non-null int32\n",
      "country_of_citizenship     139286 non-null int32\n",
      "employer_state             139286 non-null int32\n",
      "application_type           139286 non-null int32\n",
      "education_level            139286 non-null int32\n",
      "economic_sector            139286 non-null int32\n",
      "ctc                        139286 non-null int64\n",
      "dtypes: int32(6), int64(3)\n",
      "memory usage: 7.4 MB\n"
     ]
    }
   ],
   "source": [
    "# Create two new datasets containing our Accepted cases\n",
    "dfu_1 = df_undersample[df_undersample['case_status'] == 1]\n",
    "dfu_1.info()"
   ]
  },
  {
   "cell_type": "code",
   "execution_count": 26,
   "metadata": {},
   "outputs": [],
   "source": [
    "# Using the previous two created datasets, create a new data split\n",
    "y0 = dfu_0['case_status'].values\n",
    "x0 = dfu_0.drop(columns = ['case_status']).values\n",
    "\n",
    "X_train0, X_test0, y_train0, y_test0 = train_test_split(x0, y0, test_size=0.3, random_state=42)\n"
   ]
  },
  {
   "cell_type": "code",
   "execution_count": 27,
   "metadata": {},
   "outputs": [
    {
     "name": "stdout",
     "output_type": "stream",
     "text": [
      "7038\n"
     ]
    }
   ],
   "source": [
    "print(len(y_train0)) "
   ]
  },
  {
   "cell_type": "code",
   "execution_count": 28,
   "metadata": {},
   "outputs": [],
   "source": [
    "# Create test splits with differring proportions of Accepted to Denied cases (1:1 and up) and plot\n",
    "# Our accuracies at each ratio\n",
    "\n",
    "from sklearn.metrics import accuracy_score\n",
    "dt_perc_correct_array = []\n",
    "dt_accuracy_score_array = []\n",
    "dt_sample_array = []\n",
    "\n",
    "for i in range(7000, 40000, 200):\n",
    "    dfu_11 = dfu_1.sample(n=i, random_state=28)\n",
    "    y1 = dfu_11['case_status'].values\n",
    "    x1 = dfu_11.drop(columns = ['case_status']).values\n",
    "\n",
    "    X_train1, X_test1, y_train1, y_test1 = train_test_split(x1, y1, test_size=0.3, random_state=42)\n",
    "    \n",
    "    y_train0 = y_train0.reshape(len(X_train0),1)\n",
    "    y_train1 = y_train1.reshape(len(X_train1), 1)    \n",
    "\n",
    "    training_set_0 = np.hstack((X_train0, y_train0))\n",
    "    training_set_1 = np.hstack((X_train1, y_train1))\n",
    "    training_set = np.vstack((training_set_0, training_set_1))\n",
    "\n",
    "    np.random.shuffle(training_set)\n",
    "    \n",
    "    y_test0 = y_test0.reshape(len(X_test0),1)\n",
    "    y_test1 = y_test1.reshape(len(X_test1), 1) \n",
    "\n",
    "    testing_set_0 = np.hstack((X_test0, y_test0))\n",
    "    testing_set_1 = np.hstack((X_test1, y_test1))\n",
    "\n",
    "    testing_set = np.vstack((testing_set_0, testing_set_1))\n",
    "    np.random.shuffle(testing_set)\n",
    "    \n",
    "    X_train = training_set[:,0:8]\n",
    "    y_train = training_set [:,8]\n",
    "\n",
    "    X_test = testing_set[:, 0:8]\n",
    "    y_test = testing_set [:, 8]\n",
    "    \n",
    "    y_true = y_test\n",
    "    clf = DecisionTreeClassifier(criterion = 'entropy', max_depth = 5, random_state=28).fit(X_train, y_train)\n",
    "    y_pred = clf.predict(X_test)\n",
    "    \n",
    "    dt_perc_correct_array.append(perc_correct(y_true, y_pred))\n",
    "    dt_accuracy_score_array.append(accuracy_score(y_true, y_pred)*100)\n",
    "    dt_sample_array.append(i)"
   ]
  },
  {
   "cell_type": "code",
   "execution_count": 29,
   "metadata": {},
   "outputs": [
    {
     "data": {
      "image/png": "[encoded data removed]",
      "text/plain": [
       "<Figure size 1296x432 with 1 Axes>"
      ]
     },
     "metadata": {
      "needs_background": "light"
     },
     "output_type": "display_data"
    }
   ],
   "source": [
    "# Plot our data and performance\n",
    "import matplotlib.pyplot as plt\n",
    "\n",
    "for i in range(len(dt_sample_array)):\n",
    "    dt_sample_array[i] = dt_sample_array[i]/(7000+dt_sample_array[i])\n",
    "plt.figure(figsize = (18,6))\n",
    "plt.scatter(dt_sample_array, dt_perc_correct_array, s = 10)\n",
    "plt.scatter(dt_sample_array, dt_accuracy_score_array, s = 10)\n",
    "\n",
    "plt.show()"
   ]
  },
  {
   "cell_type": "code",
   "execution_count": 30,
   "metadata": {},
   "outputs": [],
   "source": [
    "# pip install pydotplus # We initially though making a decision tree plot would be interesting... we removed it"
   ]
  },
  {
   "cell_type": "code",
   "execution_count": null,
   "metadata": {},
   "outputs": [],
   "source": []
  },
  {
   "cell_type": "code",
   "execution_count": 31,
   "metadata": {},
   "outputs": [],
   "source": [
    "# Create our decision tree and test\n",
    "dfu_11 = dfu_1.sample(n=10000, random_state=28)\n",
    "y1 = dfu_11['case_status'].values\n",
    "x1 = dfu_11.drop(columns = ['case_status']).values\n",
    "\n",
    "X_train1, X_test1, y_train1, y_test1 = train_test_split(x1, y1, test_size=0.3, random_state=42)\n",
    "    \n",
    "y_train0 = y_train0.reshape(len(X_train0),1)\n",
    "y_train1 = y_train1.reshape(len(X_train1), 1)    \n",
    "\n",
    "training_set_0 = np.hstack((X_train0, y_train0))\n",
    "training_set_1 = np.hstack((X_train1, y_train1))\n",
    "training_set = np.vstack((training_set_0, training_set_1))\n",
    "\n",
    "np.random.shuffle(training_set)\n",
    "    \n",
    "y_test0 = y_test0.reshape(len(X_test0),1)\n",
    "y_test1 = y_test1.reshape(len(X_test1), 1) \n",
    "\n",
    "testing_set_0 = np.hstack((X_test0, y_test0))\n",
    "testing_set_1 = np.hstack((X_test1, y_test1))\n",
    "\n",
    "testing_set = np.vstack((testing_set_0, testing_set_1))\n",
    "np.random.shuffle(testing_set)\n",
    "    \n",
    "X_train = training_set[:,0:8]\n",
    "y_train = training_set [:,8]\n",
    "\n",
    "X_test = testing_set[:, 0:8]\n",
    "y_test = testing_set [:, 8]\n",
    "    \n",
    "y_true = y_test\n",
    "clf_DT = DecisionTreeClassifier(criterion = 'entropy', max_depth = 5, random_state=28).fit(X_train, y_train)\n"
   ]
  },
  {
   "cell_type": "code",
   "execution_count": 32,
   "metadata": {},
   "outputs": [],
   "source": [
    "# Plotting of the decision tree, but it required the graphiz libraries and we were afraid that might be too much to install\n",
    "# Just for a plot of our decision tree (it wasn't very useful anyways)\n",
    "\n",
    "# from sklearn.externals.six import StringIO  \n",
    "# from IPython.display import Image  \n",
    "# from sklearn.tree import export_graphviz\n",
    "# import pydotplus\n",
    "# dot_data = StringIO()\n",
    "# export_graphviz(clf_DT, out_file=dot_data,  \n",
    "#                filled=True, rounded=True,\n",
    "#                special_characters=True)\n",
    "# graph = pydotplus.graph_from_dot_data(dot_data.getvalue())\n",
    "# graph.set_size('\"500,200!\"')\n",
    "# Image(graph.create_png())\n"
   ]
  },
  {
   "cell_type": "code",
   "execution_count": 33,
   "metadata": {},
   "outputs": [
    {
     "name": "stdout",
     "output_type": "stream",
     "text": [
      "[71.01545620741233, 71.06531494100051, 70.4670101379425, 70.915738740236, 72.57769652650823, 71.14841283031411, 70.21771647000166, 72.22868539139105, 71.29798903107861, 70.317433937178, 71.24813029749045, 71.96277214558751, 70.68306465015789, 70.68306465015789, 71.94615256772478]\n"
     ]
    }
   ],
   "source": [
    "# Trying out a random forest classifier to classify our data\n",
    "\n",
    "from sklearn.ensemble import RandomForestClassifier\n",
    "\n",
    "rfc_perc_correct_array = []\n",
    "rfc_accuracy_score_array = []\n",
    "rfc_n_estimator_array = []\n",
    "\n",
    "\n",
    "for i in range(10,25):\n",
    "    dfu_11 = dfu_1.sample(n=10000, random_state=28)\n",
    "    y1 = dfu_11['case_status'].values\n",
    "    x1 = dfu_11.drop(columns = ['case_status']).values\n",
    "\n",
    "    X_train1, X_test1, y_train1, y_test1 = train_test_split(x1, y1, test_size=0.3, random_state=42)\n",
    "    \n",
    "    y_train0 = y_train0.reshape(len(X_train0),1)\n",
    "    y_train1 = y_train1.reshape(len(X_train1), 1)    \n",
    "\n",
    "    training_set_0 = np.hstack((X_train0, y_train0))\n",
    "    training_set_1 = np.hstack((X_train1, y_train1))\n",
    "    training_set = np.vstack((training_set_0, training_set_1))\n",
    "\n",
    "    np.random.shuffle(training_set)\n",
    "    \n",
    "    y_test0 = y_test0.reshape(len(X_test0),1)\n",
    "    y_test1 = y_test1.reshape(len(X_test1), 1) \n",
    "\n",
    "    testing_set_0 = np.hstack((X_test0, y_test0))\n",
    "    testing_set_1 = np.hstack((X_test1, y_test1))\n",
    "\n",
    "    testing_set = np.vstack((testing_set_0, testing_set_1))\n",
    "    np.random.shuffle(testing_set)\n",
    "    \n",
    "    X_train = training_set[:,0:8]\n",
    "    y_train = training_set [:,8]\n",
    "\n",
    "    X_test = testing_set[:, 0:8]\n",
    "    y_test = testing_set [:, 8]\n",
    "    \n",
    "    y_true = y_test\n",
    "    clf_RFC = RandomForestClassifier(n_estimators = i, criterion = 'entropy', max_depth = 5, random_state=28).fit(X_train, y_train)\n",
    "    y_pred = clf_RFC.predict(X_test)\n",
    "    \n",
    "    rfc_perc_correct_array.append(perc_correct(y_true, y_pred))\n",
    "    rfc_accuracy_score_array.append(accuracy_score(y_true, y_pred)*100)\n",
    "    rfc_n_estimator_array.append(i)\n",
    "    \n",
    "print(rfc_accuracy_score_array)"
   ]
  },
  {
   "cell_type": "code",
   "execution_count": 34,
   "metadata": {},
   "outputs": [
    {
     "name": "stdout",
     "output_type": "stream",
     "text": [
      "[49.7423965431278]\n",
      "[49.7423965431278, 48.94465680571714]\n",
      "[49.7423965431278, 48.94465680571714, 49.67591823167691]\n",
      "[49.7423965431278, 48.94465680571714, 49.67591823167691, 49.70915738740236]\n"
     ]
    }
   ],
   "source": [
    "# Trying out an SVM at different kernels and testing its performance\n",
    "from sklearn.svm import SVC\n",
    "\n",
    "svm_kernels = ['rbf','linear','poly','sigmoid']\n",
    "svm_kernel_accuracy_score = []\n",
    "svm_kernel_perc_accuracy = []\n",
    "\n",
    "for kernel_ii in svm_kernels:\n",
    "    dfu_11 = dfu_1.sample(n=10000, random_state=28)\n",
    "    y1 = dfu_11['case_status'].values\n",
    "    x1 = dfu_11.drop(columns = ['case_status']).values\n",
    "\n",
    "    X_train1, X_test1, y_train1, y_test1 = train_test_split(x1, y1, test_size=0.3, random_state=42)\n",
    "    \n",
    "    y_train0 = y_train0.reshape(len(X_train0),1)\n",
    "    y_train1 = y_train1.reshape(len(X_train1), 1)    \n",
    "\n",
    "    training_set_0 = np.hstack((X_train0, y_train0))\n",
    "    training_set_1 = np.hstack((X_train1, y_train1))\n",
    "    training_set = np.vstack((training_set_0, training_set_1))\n",
    "\n",
    "    np.random.shuffle(training_set)\n",
    "    \n",
    "    y_test0 = y_test0.reshape(len(X_test0),1)\n",
    "    y_test1 = y_test1.reshape(len(X_test1), 1) \n",
    "\n",
    "    testing_set_0 = np.hstack((X_test0, y_test0))\n",
    "    testing_set_1 = np.hstack((X_test1, y_test1))\n",
    "\n",
    "    testing_set = np.vstack((testing_set_0, testing_set_1))\n",
    "    np.random.shuffle(testing_set)\n",
    "    \n",
    "    X_train = training_set[:,0:8]\n",
    "    y_train = training_set [:,8]\n",
    "\n",
    "    X_test = testing_set[:, 0:8]\n",
    "    y_test = testing_set [:, 8]\n",
    "    \n",
    "    y_true = y_test\n",
    "    clf_SVC = SVC(gamma = 'auto', kernel = kernel_ii).fit(X_train, y_train)\n",
    "\n",
    "    y_predict = clf_SVC.predict(X_test)\n",
    "\n",
    "\n",
    "    svm_kernel_perc_accuracy.append(perc_correct(y_true, y_pred))\n",
    "    svm_kernel_accuracy_score.append(accuracy_score(y_true, y_pred)*100)\n",
    "    \n",
    "    print(svm_kernel_accuracy_score)"
   ]
  },
  {
   "cell_type": "code",
   "execution_count": 35,
   "metadata": {},
   "outputs": [
    {
     "name": "stderr",
     "output_type": "stream",
     "text": [
      "c:\\users\\justin\\appdata\\local\\programs\\python\\python37\\lib\\site-packages\\scipy\\optimize\\linesearch.py:466: LineSearchWarning: The line search algorithm did not converge\n",
      "  warn('The line search algorithm did not converge', LineSearchWarning)\n",
      "c:\\users\\justin\\appdata\\local\\programs\\python\\python37\\lib\\site-packages\\scipy\\optimize\\linesearch.py:314: LineSearchWarning: The line search algorithm did not converge\n",
      "  warn('The line search algorithm did not converge', LineSearchWarning)\n",
      "c:\\users\\justin\\appdata\\local\\programs\\python\\python37\\lib\\site-packages\\scipy\\optimize\\linesearch.py:466: LineSearchWarning: The line search algorithm did not converge\n",
      "  warn('The line search algorithm did not converge', LineSearchWarning)\n",
      "c:\\users\\justin\\appdata\\local\\programs\\python\\python37\\lib\\site-packages\\scipy\\optimize\\linesearch.py:314: LineSearchWarning: The line search algorithm did not converge\n",
      "  warn('The line search algorithm did not converge', LineSearchWarning)\n",
      "c:\\users\\justin\\appdata\\local\\programs\\python\\python37\\lib\\site-packages\\scipy\\optimize\\linesearch.py:466: LineSearchWarning: The line search algorithm did not converge\n",
      "  warn('The line search algorithm did not converge', LineSearchWarning)\n",
      "c:\\users\\justin\\appdata\\local\\programs\\python\\python37\\lib\\site-packages\\scipy\\optimize\\linesearch.py:314: LineSearchWarning: The line search algorithm did not converge\n",
      "  warn('The line search algorithm did not converge', LineSearchWarning)\n",
      "c:\\users\\justin\\appdata\\local\\programs\\python\\python37\\lib\\site-packages\\scipy\\optimize\\linesearch.py:466: LineSearchWarning: The line search algorithm did not converge\n",
      "  warn('The line search algorithm did not converge', LineSearchWarning)\n",
      "c:\\users\\justin\\appdata\\local\\programs\\python\\python37\\lib\\site-packages\\scipy\\optimize\\linesearch.py:314: LineSearchWarning: The line search algorithm did not converge\n",
      "  warn('The line search algorithm did not converge', LineSearchWarning)\n",
      "c:\\users\\justin\\appdata\\local\\programs\\python\\python37\\lib\\site-packages\\scipy\\optimize\\linesearch.py:466: LineSearchWarning: The line search algorithm did not converge\n",
      "  warn('The line search algorithm did not converge', LineSearchWarning)\n",
      "c:\\users\\justin\\appdata\\local\\programs\\python\\python37\\lib\\site-packages\\scipy\\optimize\\linesearch.py:314: LineSearchWarning: The line search algorithm did not converge\n",
      "  warn('The line search algorithm did not converge', LineSearchWarning)\n",
      "c:\\users\\justin\\appdata\\local\\programs\\python\\python37\\lib\\site-packages\\scipy\\optimize\\linesearch.py:466: LineSearchWarning: The line search algorithm did not converge\n",
      "  warn('The line search algorithm did not converge', LineSearchWarning)\n",
      "c:\\users\\justin\\appdata\\local\\programs\\python\\python37\\lib\\site-packages\\scipy\\optimize\\linesearch.py:314: LineSearchWarning: The line search algorithm did not converge\n",
      "  warn('The line search algorithm did not converge', LineSearchWarning)\n",
      "c:\\users\\justin\\appdata\\local\\programs\\python\\python37\\lib\\site-packages\\scipy\\optimize\\linesearch.py:466: LineSearchWarning: The line search algorithm did not converge\n",
      "  warn('The line search algorithm did not converge', LineSearchWarning)\n",
      "c:\\users\\justin\\appdata\\local\\programs\\python\\python37\\lib\\site-packages\\scipy\\optimize\\linesearch.py:314: LineSearchWarning: The line search algorithm did not converge\n",
      "  warn('The line search algorithm did not converge', LineSearchWarning)\n",
      "c:\\users\\justin\\appdata\\local\\programs\\python\\python37\\lib\\site-packages\\scipy\\optimize\\linesearch.py:466: LineSearchWarning: The line search algorithm did not converge\n",
      "  warn('The line search algorithm did not converge', LineSearchWarning)\n",
      "c:\\users\\justin\\appdata\\local\\programs\\python\\python37\\lib\\site-packages\\scipy\\optimize\\linesearch.py:314: LineSearchWarning: The line search algorithm did not converge\n",
      "  warn('The line search algorithm did not converge', LineSearchWarning)\n",
      "c:\\users\\justin\\appdata\\local\\programs\\python\\python37\\lib\\site-packages\\scipy\\optimize\\linesearch.py:466: LineSearchWarning: The line search algorithm did not converge\n",
      "  warn('The line search algorithm did not converge', LineSearchWarning)\n",
      "c:\\users\\justin\\appdata\\local\\programs\\python\\python37\\lib\\site-packages\\scipy\\optimize\\linesearch.py:314: LineSearchWarning: The line search algorithm did not converge\n",
      "  warn('The line search algorithm did not converge', LineSearchWarning)\n",
      "c:\\users\\justin\\appdata\\local\\programs\\python\\python37\\lib\\site-packages\\scipy\\optimize\\linesearch.py:466: LineSearchWarning: The line search algorithm did not converge\n",
      "  warn('The line search algorithm did not converge', LineSearchWarning)\n",
      "c:\\users\\justin\\appdata\\local\\programs\\python\\python37\\lib\\site-packages\\scipy\\optimize\\linesearch.py:314: LineSearchWarning: The line search algorithm did not converge\n",
      "  warn('The line search algorithm did not converge', LineSearchWarning)\n",
      "c:\\users\\justin\\appdata\\local\\programs\\python\\python37\\lib\\site-packages\\scipy\\optimize\\linesearch.py:466: LineSearchWarning: The line search algorithm did not converge\n",
      "  warn('The line search algorithm did not converge', LineSearchWarning)\n",
      "c:\\users\\justin\\appdata\\local\\programs\\python\\python37\\lib\\site-packages\\scipy\\optimize\\linesearch.py:314: LineSearchWarning: The line search algorithm did not converge\n",
      "  warn('The line search algorithm did not converge', LineSearchWarning)\n",
      "c:\\users\\justin\\appdata\\local\\programs\\python\\python37\\lib\\site-packages\\scipy\\optimize\\linesearch.py:466: LineSearchWarning: The line search algorithm did not converge\n",
      "  warn('The line search algorithm did not converge', LineSearchWarning)\n",
      "c:\\users\\justin\\appdata\\local\\programs\\python\\python37\\lib\\site-packages\\scipy\\optimize\\linesearch.py:314: LineSearchWarning: The line search algorithm did not converge\n",
      "  warn('The line search algorithm did not converge', LineSearchWarning)\n",
      "c:\\users\\justin\\appdata\\local\\programs\\python\\python37\\lib\\site-packages\\sklearn\\utils\\optimize.py:203: ConvergenceWarning: newton-cg failed to converge. Increase the number of iterations.\n",
      "  \"number of iterations.\", ConvergenceWarning)\n"
     ]
    },
    {
     "name": "stdout",
     "output_type": "stream",
     "text": [
      "[49.90859232175503]\n",
      "[49.90859232175503, 50.24098387900947]\n"
     ]
    },
    {
     "name": "stderr",
     "output_type": "stream",
     "text": [
      "c:\\users\\justin\\appdata\\local\\programs\\python\\python37\\lib\\site-packages\\sklearn\\linear_model\\sag.py:337: ConvergenceWarning: The max_iter was reached which means the coef_ did not converge\n",
      "  \"the coef_ did not converge\", ConvergenceWarning)\n"
     ]
    },
    {
     "name": "stdout",
     "output_type": "stream",
     "text": [
      "[49.90859232175503, 50.24098387900947, 49.67591823167691]\n",
      "[49.90859232175503, 50.24098387900947, 49.67591823167691, 50.37394050191125]\n"
     ]
    },
    {
     "name": "stderr",
     "output_type": "stream",
     "text": [
      "c:\\users\\justin\\appdata\\local\\programs\\python\\python37\\lib\\site-packages\\sklearn\\linear_model\\sag.py:337: ConvergenceWarning: The max_iter was reached which means the coef_ did not converge\n",
      "  \"the coef_ did not converge\", ConvergenceWarning)\n"
     ]
    }
   ],
   "source": [
    "# Trying a logistic regression as well\n",
    "\n",
    "from sklearn.linear_model import LogisticRegression as LR\n",
    "\n",
    "lr_solvers = ['newton-cg','liblinear','sag','saga']\n",
    "lr_solver_perc_accuracy = []\n",
    "lr_solver_accuracy_score = []\n",
    "\n",
    "for solver_ii in lr_solvers:\n",
    "    dfu_11 = dfu_1.sample(n=10000, random_state=28)\n",
    "    y1 = dfu_11['case_status'].values\n",
    "    x1 = dfu_11.drop(columns = ['case_status']).values\n",
    "\n",
    "    X_train1, X_test1, y_train1, y_test1 = train_test_split(x1, y1, test_size=0.3, random_state=42)\n",
    "    \n",
    "    y_train0 = y_train0.reshape(len(X_train0),1)\n",
    "    y_train1 = y_train1.reshape(len(X_train1), 1)    \n",
    "\n",
    "    training_set_0 = np.hstack((X_train0, y_train0))\n",
    "    training_set_1 = np.hstack((X_train1, y_train1))\n",
    "    training_set = np.vstack((training_set_0, training_set_1))\n",
    "\n",
    "    np.random.shuffle(training_set)\n",
    "    \n",
    "    y_test0 = y_test0.reshape(len(X_test0),1)\n",
    "    y_test1 = y_test1.reshape(len(X_test1), 1) \n",
    "\n",
    "    testing_set_0 = np.hstack((X_test0, y_test0))\n",
    "    testing_set_1 = np.hstack((X_test1, y_test1))\n",
    "\n",
    "    testing_set = np.vstack((testing_set_0, testing_set_1))\n",
    "    np.random.shuffle(testing_set)\n",
    "    \n",
    "    X_train = training_set[:,0:8]\n",
    "    y_train = training_set [:,8]\n",
    "\n",
    "    X_test = testing_set[:, 0:8]\n",
    "    y_test = testing_set [:, 8]\n",
    "    \n",
    "    y_true = y_test\n",
    "    clf_LR = LR(random_state=0, solver=solver_ii).fit(X_train, y_train)\n",
    "\n",
    "    y_predict = clf_LR.predict(X_test)\n",
    "\n",
    "\n",
    "    lr_solver_perc_accuracy.append(perc_correct(y_true, y_pred))\n",
    "    lr_solver_accuracy_score.append(accuracy_score(y_true, y_pred)*100)\n",
    "\n",
    "    print(lr_solver_accuracy_score)\n"
   ]
  },
  {
   "cell_type": "code",
   "execution_count": null,
   "metadata": {},
   "outputs": [],
   "source": []
  }
 ],
 "metadata": {
  "kernelspec": {
   "display_name": "Python 3",
   "language": "python",
   "name": "python3"
  },
  "language_info": {
   "codemirror_mode": {
    "name": "ipython",
    "version": 3
   },
   "file_extension": ".py",
   "mimetype": "text/x-python",
   "name": "python",
   "nbconvert_exporter": "python",
   "pygments_lexer": "ipython3",
   "version": "3.7.5"
  }
 },
 "nbformat": 4,
 "nbformat_minor": 4
}
