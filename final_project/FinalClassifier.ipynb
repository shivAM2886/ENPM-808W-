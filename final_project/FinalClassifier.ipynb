{
 "cells": [
  {
   "cell_type": "code",
   "execution_count": 1,
   "metadata": {},
   "outputs": [],
   "source": [
    "# Import what we need to use\n",
    "import pandas as pd\n",
    "import numpy as np\n",
    "import matplotlib.pyplot as plt"
   ]
  },
  {
   "cell_type": "code",
   "execution_count": 2,
   "metadata": {},
   "outputs": [
    {
     "name": "stderr",
     "output_type": "stream",
     "text": [
      "/srv/conda/envs/notebook/lib/python3.7/site-packages/IPython/core/interactiveshell.py:3049: DtypeWarning: Columns (1,6,8,9,10,11) have mixed types. Specify dtype option on import or set low_memory=False.\n",
      "  interactivity=interactivity, compiler=compiler, result=result)\n"
     ]
    },
    {
     "name": "stdout",
     "output_type": "stream",
     "text": [
      "<class 'pandas.core.frame.DataFrame'>\n",
      "RangeIndex: 205533 entries, 0 to 205532\n",
      "Data columns (total 13 columns):\n",
      "case_status                205533 non-null object\n",
      "agent_state                58961 non-null object\n",
      "case_received_date_YEAR    70261 non-null float64\n",
      "class_of_admission         194690 non-null object\n",
      "country_of_citizenship     205503 non-null object\n",
      "employer_state             205511 non-null object\n",
      "application_type           135269 non-null object\n",
      "decision_date              205533 non-null object\n",
      "education_level            70258 non-null object\n",
      "job_major                  64085 non-null object\n",
      "economic_sector            129068 non-null object\n",
      "ctc                        205476 non-null object\n",
      "ctc_unit                   160716 non-null object\n",
      "dtypes: float64(1), object(12)\n",
      "memory usage: 20.4+ MB\n"
     ]
    }
   ],
   "source": [
    "# Get data\n",
    "df = pd.read_csv('us_perm_visas.csv')\n",
    "df.info()"
   ]
  },
  {
   "cell_type": "code",
   "execution_count": 3,
   "metadata": {},
   "outputs": [
    {
     "name": "stdout",
     "output_type": "stream",
     "text": [
      "<class 'pandas.core.frame.DataFrame'>\n",
      "RangeIndex: 205533 entries, 0 to 205532\n",
      "Data columns (total 13 columns):\n",
      "case_status                205533 non-null object\n",
      "agent_state                205533 non-null object\n",
      "case_received_date_YEAR    205533 non-null object\n",
      "class_of_admission         205533 non-null object\n",
      "country_of_citizenship     205533 non-null object\n",
      "employer_state             205533 non-null object\n",
      "application_type           205533 non-null object\n",
      "decision_date              205533 non-null object\n",
      "education_level            205533 non-null object\n",
      "job_major                  205533 non-null object\n",
      "economic_sector            205533 non-null object\n",
      "ctc                        205533 non-null object\n",
      "ctc_unit                   205533 non-null object\n",
      "dtypes: object(13)\n",
      "memory usage: 20.4+ MB\n"
     ]
    }
   ],
   "source": [
    "# Replace Nas with strings\n",
    "missing_term = ['cs', 'as', 'crdy', 'coa', 'coc', 'es', 'at', 'dd', 'el', 'jm', 'es', 'ctc', 'ctcu']\n",
    "for i in range(13):\n",
    "    df.iloc[:,i].fillna('missing'+missing_term[i], inplace = True)\n",
    "df.info()"
   ]
  },
  {
   "cell_type": "code",
   "execution_count": 5,
   "metadata": {},
   "outputs": [
    {
     "data": {
      "text/plain": [
       "H-1B         79.259514\n",
       "other_coa    20.740486\n",
       "Name: class_of_admission, dtype: float64"
      ]
     },
     "execution_count": 5,
     "metadata": {},
     "output_type": "execute_result"
    }
   ],
   "source": [
    "# Replace Class of admission values such that there are only two values (H-1B and Other)\n",
    "df = df[df['case_status'] != 'Withdrawn']\n",
    "df['case_status'].astype(np.int64)\n",
    "\n",
    "def class_of_admission(x):\n",
    "    x = str(x)\n",
    "    if x == 'H-1B' or x =='H1B':\n",
    "        return 'H-1B'\n",
    "    else:\n",
    "        return 'other_coa'\n",
    "    \n",
    "df['class_of_admission'] = df['class_of_admission'].apply(lambda x: class_of_admission(x))\n",
    "df['class_of_admission'].value_counts()*100/len(df)"
   ]
  },
  {
   "cell_type": "code",
   "execution_count": 7,
   "metadata": {},
   "outputs": [
    {
     "data": {
      "text/plain": [
       "missinges    37.898258\n",
       "other_es     36.765847\n",
       "IT           25.335895\n",
       "Name: economic_sector, dtype: float64"
      ]
     },
     "execution_count": 7,
     "metadata": {},
     "output_type": "execute_result"
    }
   ],
   "source": [
    "# Relabel data from US economic sector into either IT, or Other\n",
    "\n",
    "def economic_sector(x):\n",
    "    x = str(x)\n",
    "    if x == 'missinges' or x == 'IT':\n",
    "        return x\n",
    "    else:\n",
    "        return 'other_es'\n",
    "\n",
    "df['economic_sector'] = df['economic_sector'].apply(lambda x: economic_sector(x))\n",
    "df['economic_sector'].value_counts()*100/len(df)"
   ]
  },
  {
   "cell_type": "code",
   "execution_count": 8,
   "metadata": {},
   "outputs": [],
   "source": [
    "# Drop fields we realised we didn't need\n",
    "\n",
    "df = df.drop(columns = ['agent_state', 'decision_date', 'job_major'])"
   ]
  },
  {
   "cell_type": "code",
   "execution_count": 9,
   "metadata": {},
   "outputs": [
    {
     "name": "stdout",
     "output_type": "stream",
     "text": [
      "<class 'pandas.core.frame.DataFrame'>\n",
      "Int64Index: 194629 entries, 0 to 205532\n",
      "Data columns (total 10 columns):\n",
      "case_status                194629 non-null object\n",
      "case_received_date_YEAR    194629 non-null object\n",
      "class_of_admission         194629 non-null object\n",
      "country_of_citizenship     194629 non-null object\n",
      "employer_state             194629 non-null object\n",
      "application_type           194629 non-null object\n",
      "education_level            194629 non-null object\n",
      "economic_sector            194629 non-null object\n",
      "ctc                        194629 non-null object\n",
      "ctc_unit                   194629 non-null object\n",
      "dtypes: object(10)\n",
      "memory usage: 16.3+ MB\n"
     ]
    }
   ],
   "source": [
    "df.info()"
   ]
  },
  {
   "cell_type": "code",
   "execution_count": 10,
   "metadata": {},
   "outputs": [],
   "source": [
    "# Typecast data\n",
    "\n",
    "df[['class_of_admission', 'country_of_citizenship', 'employer_state', 'application_type', 'education_level', 'economic_sector']] = df[['class_of_admission', 'country_of_citizenship', 'employer_state', 'application_type', 'education_level', 'economic_sector']].astype('|S')"
   ]
  },
  {
   "cell_type": "code",
   "execution_count": 11,
   "metadata": {},
   "outputs": [],
   "source": [
    "# Change the format of the year to 0 if empty\n",
    "\n",
    "def change_year_format(x):\n",
    "    if str(x) == 'missingcrdy':\n",
    "        return 0\n",
    "    else:\n",
    "        return np.int64(x)\n",
    "\n",
    "df['case_received_date_YEAR'] = df['case_received_date_YEAR'].apply(lambda x: change_year_format(x))"
   ]
  },
  {
   "cell_type": "code",
   "execution_count": 12,
   "metadata": {},
   "outputs": [],
   "source": [
    "# Compute the mean wage offered\n",
    "\n",
    "def mean_ctc(array):\n",
    "    sum_ctc = 0\n",
    "    count = 0\n",
    "    for ctc in array:\n",
    "        ctc = str(ctc)\n",
    "        try:\n",
    "            ctc = np.float64(ctc.replace(',',''))\n",
    "            sum_ctc = sum_ctc + ctc\n",
    "            count = count + 1\n",
    "        except:\n",
    "            continue\n",
    "    return np.float64(sum_ctc/count)\n",
    "\n",
    "array = df['ctc'].values\n",
    "mean_ctc = mean_ctc(array)\n"
   ]
  },
  {
   "cell_type": "code",
   "execution_count": 13,
   "metadata": {},
   "outputs": [],
   "source": [
    "# Replace our Na values with the mean\n",
    "\n",
    "def modify_ctc(x):\n",
    "    try:\n",
    "        x = str(x) \n",
    "        x = x.replace(',','')\n",
    "        x = np.float64(x)\n",
    "    except:\n",
    "        x = mean_ctc\n",
    "    return x\n",
    "df['ctc'] = df['ctc'].apply(lambda x: modify_ctc(x))"
   ]
  },
  {
   "cell_type": "code",
   "execution_count": 14,
   "metadata": {},
   "outputs": [
    {
     "name": "stdout",
     "output_type": "stream",
     "text": [
      "<class 'pandas.core.frame.DataFrame'>\n",
      "Int64Index: 149341 entries, 0 to 205531\n",
      "Data columns (total 9 columns):\n",
      "case_status                149341 non-null int64\n",
      "case_received_date_YEAR    149341 non-null int64\n",
      "class_of_admission         149341 non-null object\n",
      "country_of_citizenship     149341 non-null object\n",
      "employer_state             149341 non-null object\n",
      "application_type           149341 non-null object\n",
      "education_level            149341 non-null object\n",
      "economic_sector            149341 non-null object\n",
      "ctc                        149341 non-null int64\n",
      "dtypes: int64(3), object(6)\n",
      "memory usage: 11.4+ MB\n"
     ]
    }
   ],
   "source": [
    "# Typecast results\n",
    "\n",
    "df[['case_status', 'ctc']] = df[['case_status', 'ctc']].astype(np.int64)\n",
    "\n",
    "df = df[(df['ctc_unit'] == 'Year') | (df['ctc_unit'] == 'yr')]\n",
    "df = df.drop(columns = ['ctc_unit'])\n",
    "df.info()"
   ]
  },
  {
   "cell_type": "code",
   "execution_count": 15,
   "metadata": {},
   "outputs": [],
   "source": [
    "# Create our encoders\n",
    "\n",
    "from sklearn import preprocessing\n",
    "label_encoder = preprocessing.LabelEncoder()\n",
    "for i in range(2, 8):\n",
    "    label_encoder = label_encoder.fit(df.iloc[:,i].astype(str))\n",
    "    df.iloc[:,i] = label_encoder.transform(df.iloc[:,i].astype(str))"
   ]
  },
  {
   "cell_type": "code",
   "execution_count": 16,
   "metadata": {},
   "outputs": [
    {
     "name": "stdout",
     "output_type": "stream",
     "text": [
      "(10055, 9)\n",
      "(139286, 9)\n"
     ]
    }
   ],
   "source": [
    "# Group datasets (Accepted and Denied)\n",
    "\n",
    "df_undersample = df\n",
    "dfu_0 = df_undersample[df_undersample['case_status'] == 0]\n",
    "dfu_1 = df_undersample[df_undersample['case_status'] == 1]\n",
    "\n",
    "print(dfu_0.shape)\n",
    "print(dfu_1.shape)"
   ]
  },
  {
   "cell_type": "code",
   "execution_count": 17,
   "metadata": {},
   "outputs": [
    {
     "name": "stdout",
     "output_type": "stream",
     "text": [
      "7038\n",
      "3017\n"
     ]
    }
   ],
   "source": [
    "# Create our test and training splits for classifier training and testing\n",
    "\n",
    "from sklearn.model_selection import train_test_split\n",
    "\n",
    "y0 = dfu_0['case_status'].values\n",
    "x0 = dfu_0.drop(columns = ['case_status']).values\n",
    "X_train0, X_test0, y_train0, y_test0 = train_test_split(x0, y0, test_size=0.3, random_state=42)\n",
    "print(len(X_train0))\n",
    "print(len(X_test0))"
   ]
  },
  {
   "cell_type": "code",
   "execution_count": 21,
   "metadata": {},
   "outputs": [],
   "source": [
    "def subtract(df1, df2):\n",
    "    df = pd.concat([df1, df2])\n",
    "    df = df.drop_duplicates(keep=False)\n",
    "    return df"
   ]
  },
  {
   "cell_type": "code",
   "execution_count": 23,
   "metadata": {},
   "outputs": [
    {
     "data": {
      "text/plain": [
       "(70571, 9)"
      ]
     },
     "execution_count": 23,
     "metadata": {},
     "output_type": "execute_result"
    }
   ],
   "source": [
    "dfu_1_dts = dfu_1.sample(n = 3000, random_state = 28)\n",
    "dfu_1 = subtract(dfu_1, dfu_1_dts)\n",
    "dfu_1.shape    # all the duplicate rows in dfu_1 are dropped."
   ]
  },
  {
   "cell_type": "code",
   "execution_count": 24,
   "metadata": {},
   "outputs": [],
   "source": [
    "# Randomize data and get 1:1 sampling of Accepted Vs. Denied (testing data)\n",
    "X_test1 = dfu_1_dts.drop(columns = ['case_status']).values\n",
    "y_test1 = dfu_1_dts['case_status'].values\n",
    "\n",
    "y_test0 = y_test0.reshape(len(X_test0),1)\n",
    "y_test1 = y_test1.reshape(len(X_test1), 1) \n",
    "\n",
    "testing_set_0 = np.hstack((X_test0, y_test0))\n",
    "testing_set_1 = np.hstack((X_test1, y_test1))\n",
    "testing_set = np.vstack((testing_set_0, testing_set_1))\n",
    "\n",
    "np.random.shuffle(testing_set)\n",
    "\n",
    "X_tds = testing_set[:, 0:8]\n",
    "y_tds = testing_set [:, 8]"
   ]
  },
  {
   "cell_type": "code",
   "execution_count": 25,
   "metadata": {},
   "outputs": [
    {
     "data": {
      "text/plain": [
       "Counter({0: 3017, 1: 3000})"
      ]
     },
     "execution_count": 25,
     "metadata": {},
     "output_type": "execute_result"
    }
   ],
   "source": [
    "from collections import Counter\n",
    "Counter(y_tds)"
   ]
  },
  {
   "cell_type": "code",
   "execution_count": 27,
   "metadata": {},
   "outputs": [],
   "source": [
    "# Create function to grade performance\n",
    "\n",
    "from sklearn.metrics import accuracy_score\n",
    "\n",
    "def perc_correct(y_true, y_pred):\n",
    "    count = 0\n",
    "    correct = 0\n",
    "    for i in range(len(y_true)):\n",
    "        if y_true[i] == 0:\n",
    "            count+=1\n",
    "            if y_true[i] == y_pred[i]:\n",
    "                correct+=1\n",
    "    return correct*100/count"
   ]
  },
  {
   "cell_type": "code",
   "execution_count": 28,
   "metadata": {},
   "outputs": [
    {
     "data": {
      "text/plain": [
       "Counter({1: 70571, 0: 7038})"
      ]
     },
     "execution_count": 28,
     "metadata": {},
     "output_type": "execute_result"
    }
   ],
   "source": [
    "# Create a 10:1 training set\n",
    "\n",
    "y_train1 = dfu_1['case_status'].values\n",
    "X_train1 = dfu_1.drop(columns = ['case_status']).values\n",
    "\n",
    "y_train0 = y_train0.reshape(len(X_train0),1)\n",
    "y_train1 = y_train1.reshape(len(X_train1), 1)\n",
    "    \n",
    "training_set_0 = np.hstack((X_train0, y_train0))\n",
    "training_set_1 = np.hstack((X_train1, y_train1))\n",
    "training_set = np.vstack((training_set_0, training_set_1))\n",
    "\n",
    "np.random.shuffle(training_set)\n",
    "    \n",
    "X_train = training_set[:,0:8]\n",
    "y_train = training_set [:,8]\n",
    "\n",
    "Counter(y_train)"
   ]
  },
  {
   "cell_type": "code",
   "execution_count": 29,
   "metadata": {},
   "outputs": [
    {
     "name": "stdout",
     "output_type": "stream",
     "text": [
      "8.518395757374876\n",
      "54.03024763171016\n"
     ]
    }
   ],
   "source": [
    "# train a decision tree on our unbiased sampled dataset and test on our 1:1 sampled data\n",
    "\n",
    "from sklearn.tree import DecisionTreeClassifier\n",
    "\n",
    "clf = DecisionTreeClassifier(criterion = 'entropy', max_depth = 5, random_state=28).fit(X_train, y_train)\n",
    "\n",
    "y_true = y_tds\n",
    "y_pred = clf.predict(X_tds)\n",
    "    \n",
    "print(perc_correct(y_true, y_pred))\n",
    "print(accuracy_score(y_true, y_pred)*100)"
   ]
  },
  {
   "cell_type": "code",
   "execution_count": 30,
   "metadata": {},
   "outputs": [
    {
     "data": {
      "text/plain": [
       "array([[ 257, 2760],\n",
       "       [   6, 2994]])"
      ]
     },
     "execution_count": 30,
     "metadata": {},
     "output_type": "execute_result"
    }
   ],
   "source": [
    "# Create a confusion matrix\n",
    "\n",
    "from sklearn.metrics import confusion_matrix\n",
    "confusion_matrix(y_true, y_pred)"
   ]
  },
  {
   "cell_type": "code",
   "execution_count": 31,
   "metadata": {},
   "outputs": [
    {
     "data": {
      "text/plain": [
       "(70571, 9)"
      ]
     },
     "execution_count": 31,
     "metadata": {},
     "output_type": "execute_result"
    }
   ],
   "source": [
    "dfu_1.shape"
   ]
  },
  {
   "cell_type": "code",
   "execution_count": 33,
   "metadata": {},
   "outputs": [],
   "source": [
    "# Create test splits with differring proportions of Accepted to Denied cases (1:1 and up) and plot\n",
    "# Our accuracies at each ratio\n",
    "\n",
    "perc_correct_array = []\n",
    "accuracy_score_array = []\n",
    "sample_array = []\n",
    "dfu_temp1 = dfu_1\n",
    "\n",
    "\n",
    "for i in range(7000, 65000, 200):\n",
    "    dfu_11 = dfu_temp1.sample(n=i, random_state=28)\n",
    "    y_train1 = dfu_11['case_status'].values\n",
    "    X_train1 = dfu_11.drop(columns = ['case_status']).values\n",
    "    \n",
    "    y_train0 = y_train0.reshape(len(X_train0),1)\n",
    "    y_train1 = y_train1.reshape(len(X_train1), 1)    \n",
    "\n",
    "    training_set_0 = np.hstack((X_train0, y_train0))\n",
    "    training_set_1 = np.hstack((X_train1, y_train1))\n",
    "    training_set = np.vstack((training_set_0, training_set_1))\n",
    "\n",
    "    np.random.shuffle(training_set)\n",
    "    \n",
    "   \n",
    "    \n",
    "    \n",
    "    X_train = training_set[:,0:8]\n",
    "    y_train = training_set [:,8]\n",
    "\n",
    "    y_true = y_tds\n",
    "    clf = DecisionTreeClassifier(criterion = 'entropy', max_depth = 5, random_state=28).fit(X_train, y_train)\n",
    "    y_pred = clf.predict(X_tds)\n",
    "    \n",
    "    perc_correct_array.append(perc_correct(y_true, y_pred))\n",
    "    accuracy_score_array.append(accuracy_score(y_true, y_pred)*100)\n",
    "\n",
    "    sample_array.append(i)"
   ]
  },
  {
   "cell_type": "code",
   "execution_count": 35,
   "metadata": {},
   "outputs": [
    {
     "data": {
      "image/png": "[encoded data removed]",
      "text/plain": [
       "<Figure size 864x432 with 1 Axes>"
      ]
     },
     "metadata": {
      "needs_background": "light"
     },
     "output_type": "display_data"
    }
   ],
   "source": [
    "# Plot our data and performance\n",
    "\n",
    "for i in range(len(sample_array)):\n",
    "    sample_array[i] = sample_array[i]*100/(7038+sample_array[i])\n",
    "plt.figure(figsize = (12,6))\n",
    "plt.scatter(sample_array, perc_correct_array, s = 10, label = 'perc_correct')\n",
    "plt.scatter(sample_array, accuracy_score_array, s = 10, label = 'accuracy_score')\n",
    "plt.ylabel('percentage accuracy')\n",
    "plt.xlabel('majority class percentage in training dataset')\n",
    "plt.legend(loc = 'lower left')\n",
    "\n",
    "plt.show()"
   ]
  },
  {
   "cell_type": "code",
   "execution_count": 37,
   "metadata": {},
   "outputs": [],
   "source": [
    "# Train on segments of the data and get accuracies\n",
    "\n",
    "perc_array = []\n",
    "acc_array = []\n",
    "iteration_array = []\n",
    "iteration = 0\n",
    "\n",
    "for i in range(1,len(dfu_1)-10000,10000):\n",
    "    iteration +=1\n",
    "    start = i\n",
    "    end = i+10000\n",
    "\n",
    "    dfu_11 = dfu_temp1.iloc[start:end]\n",
    "    y_train1 = dfu_11['case_status'].values\n",
    "    X_train1 = dfu_11.drop(columns = ['case_status']).values\n",
    "    \n",
    "    y_train0 = y_train0.reshape(len(X_train0),1)\n",
    "    y_train1 = y_train1.reshape(len(X_train1), 1)    \n",
    "\n",
    "    training_set_0 = np.hstack((X_train0, y_train0))\n",
    "    training_set_1 = np.hstack((X_train1, y_train1))\n",
    "    training_set = np.vstack((training_set_0, training_set_1))\n",
    "\n",
    "    np.random.shuffle(training_set)\n",
    "    \n",
    "    X_train = training_set[:,0:8]\n",
    "    y_train = training_set [:,8]\n",
    "    \n",
    "    y_true = y_tds\n",
    "    clf_DT = DecisionTreeClassifier(criterion = 'entropy', max_depth = 5, random_state=28).fit(X_train, y_train)\n",
    "    y_pred = clf_DT.predict(X_tds)\n",
    "    acc_array.append(100*accuracy_score(y_true, y_pred))\n",
    "    perc_array.append(perc_correct(y_true, y_pred))\n",
    "    iteration_array.append(iteration)"
   ]
  },
  {
   "cell_type": "code",
   "execution_count": 38,
   "metadata": {},
   "outputs": [
    {
     "data": {
      "text/html": [
       "<div>\n",
       "<style scoped>\n",
       "    .dataframe tbody tr th:only-of-type {\n",
       "        vertical-align: middle;\n",
       "    }\n",
       "\n",
       "    .dataframe tbody tr th {\n",
       "        vertical-align: top;\n",
       "    }\n",
       "\n",
       "    .dataframe thead th {\n",
       "        text-align: right;\n",
       "    }\n",
       "</style>\n",
       "<table border=\"1\" class=\"dataframe\">\n",
       "  <thead>\n",
       "    <tr style=\"text-align: right;\">\n",
       "      <th></th>\n",
       "      <th>iter</th>\n",
       "      <th>accuracy score</th>\n",
       "      <th>percentage correct</th>\n",
       "    </tr>\n",
       "  </thead>\n",
       "  <tbody>\n",
       "    <tr>\n",
       "      <th>0</th>\n",
       "      <td>1</td>\n",
       "      <td>44.823001</td>\n",
       "      <td>75.836924</td>\n",
       "    </tr>\n",
       "    <tr>\n",
       "      <th>1</th>\n",
       "      <td>2</td>\n",
       "      <td>54.695031</td>\n",
       "      <td>67.417965</td>\n",
       "    </tr>\n",
       "    <tr>\n",
       "      <th>2</th>\n",
       "      <td>3</td>\n",
       "      <td>54.362639</td>\n",
       "      <td>66.755055</td>\n",
       "    </tr>\n",
       "    <tr>\n",
       "      <th>3</th>\n",
       "      <td>4</td>\n",
       "      <td>54.462357</td>\n",
       "      <td>66.920782</td>\n",
       "    </tr>\n",
       "    <tr>\n",
       "      <th>4</th>\n",
       "      <td>5</td>\n",
       "      <td>56.523184</td>\n",
       "      <td>75.472324</td>\n",
       "    </tr>\n",
       "    <tr>\n",
       "      <th>5</th>\n",
       "      <td>6</td>\n",
       "      <td>61.941167</td>\n",
       "      <td>87.272125</td>\n",
       "    </tr>\n",
       "    <tr>\n",
       "      <th>6</th>\n",
       "      <td>7</td>\n",
       "      <td>61.974406</td>\n",
       "      <td>87.139543</td>\n",
       "    </tr>\n",
       "  </tbody>\n",
       "</table>\n",
       "</div>"
      ],
      "text/plain": [
       "   iter  accuracy score  percentage correct\n",
       "0     1       44.823001           75.836924\n",
       "1     2       54.695031           67.417965\n",
       "2     3       54.362639           66.755055\n",
       "3     4       54.462357           66.920782\n",
       "4     5       56.523184           75.472324\n",
       "5     6       61.941167           87.272125\n",
       "6     7       61.974406           87.139543"
      ]
     },
     "execution_count": 38,
     "metadata": {},
     "output_type": "execute_result"
    }
   ],
   "source": [
    "# Get accuracies of our training with segments of data\n",
    "\n",
    "pd.DataFrame({\"iter\": iteration_array, \"accuracy score\": acc_array, \"percentage correct\": perc_array})"
   ]
  },
  {
   "cell_type": "code",
   "execution_count": 62,
   "metadata": {},
   "outputs": [
    {
     "data": {
      "image/png": "[encoded data removed]",
      "text/plain": [
       "<Figure size 864x432 with 1 Axes>"
      ]
     },
     "metadata": {
      "needs_background": "light"
     },
     "output_type": "display_data"
    }
   ],
   "source": [
    "# Plot those accuracies\n",
    "\n",
    "plt.figure(figsize=(12,6))\n",
    "plt.grid()\n",
    "plt.plot(iteration_array, acc_array, label = 'acs', color = '#ff7133')\n",
    "plt.plot(iteration_array, perc_array, label = 'pac or apac', color = '#33fff6')\n",
    "\n",
    "plt.legend(loc = 'lower left')\n",
    "plt.ylabel('accuracy percentage')\n",
    "plt.xlabel('iteration count')\n",
    "plt.show()"
   ]
  },
  {
   "cell_type": "code",
   "execution_count": 39,
   "metadata": {},
   "outputs": [],
   "source": [
    "clf_model = []\n",
    "\n",
    "for i in range(1,len(dfu_1)-10000,10000):\n",
    "    iteration +=1\n",
    "    start = i\n",
    "    end = i+10000\n",
    "\n",
    "    dfu_11 = dfu_temp1.iloc[start:end]\n",
    "    y_train1 = dfu_11['case_status'].values\n",
    "    X_train1 = dfu_11.drop(columns = ['case_status']).values\n",
    "\n",
    "    y_train0 = y_train0.reshape(len(X_train0),1)\n",
    "    y_train1 = y_train1.reshape(len(X_train1), 1)    \n",
    "\n",
    "    training_set_0 = np.hstack((X_train0, y_train0))\n",
    "    training_set_1 = np.hstack((X_train1, y_train1))\n",
    "    training_set = np.vstack((training_set_0, training_set_1))\n",
    "\n",
    "    np.random.shuffle(training_set)\n",
    "    \n",
    "    X_train = training_set[:,0:8]\n",
    "    y_train = training_set [:,8]\n",
    "    \n",
    "    clf_DT = DecisionTreeClassifier(criterion = 'entropy', max_depth = 5, random_state=28).fit(X_train, y_train)\n",
    "    clf_model.append(clf_DT)"
   ]
  },
  {
   "cell_type": "code",
   "execution_count": 42,
   "metadata": {},
   "outputs": [],
   "source": [
    "y_true = y_tds\n",
    "pred_array = []\n",
    "for i in range(len(clf_model)):\n",
    "    y_pred = clf_model[i].predict(X_tds)\n",
    "    pred_array.append(y_pred)"
   ]
  },
  {
   "cell_type": "code",
   "execution_count": 52,
   "metadata": {},
   "outputs": [],
   "source": [
    "probability_0 = []\n",
    "for i in range(len(X_tds)):\n",
    "    count_0 = 0\n",
    "    count_1 = 0\n",
    "    for j in range(len(pred_array)):\n",
    "        if pred_array[j][i] == 0:\n",
    "            count_0+=1\n",
    "        else:\n",
    "            count_1 +=1\n",
    "    probability_0.append(count_0/7)"
   ]
  },
  {
   "cell_type": "code",
   "execution_count": 58,
   "metadata": {},
   "outputs": [],
   "source": [
    "y_predict_all = []\n",
    "for p in np.arange(0.5,1,0.1):\n",
    "    y_predict = []\n",
    "    for i in range(len(probability_0)):\n",
    "        if probability_0[i]>p:\n",
    "            y_predict.append(0)\n",
    "        else:\n",
    "            y_predict.append(1)\n",
    "    y_predict_all.append(y_predict)"
   ]
  },
  {
   "cell_type": "code",
   "execution_count": 60,
   "metadata": {},
   "outputs": [
    {
     "data": {
      "text/html": [
       "<div>\n",
       "<style scoped>\n",
       "    .dataframe tbody tr th:only-of-type {\n",
       "        vertical-align: middle;\n",
       "    }\n",
       "\n",
       "    .dataframe tbody tr th {\n",
       "        vertical-align: top;\n",
       "    }\n",
       "\n",
       "    .dataframe thead th {\n",
       "        text-align: right;\n",
       "    }\n",
       "</style>\n",
       "<table border=\"1\" class=\"dataframe\">\n",
       "  <thead>\n",
       "    <tr style=\"text-align: right;\">\n",
       "      <th></th>\n",
       "      <th>p</th>\n",
       "      <th>accuracy score</th>\n",
       "      <th>perc_correct_score</th>\n",
       "    </tr>\n",
       "  </thead>\n",
       "  <tbody>\n",
       "    <tr>\n",
       "      <th>0</th>\n",
       "      <td>0.5</td>\n",
       "      <td>50.141266</td>\n",
       "      <td>100.000000</td>\n",
       "    </tr>\n",
       "    <tr>\n",
       "      <th>1</th>\n",
       "      <td>0.6</td>\n",
       "      <td>64.018614</td>\n",
       "      <td>56.015910</td>\n",
       "    </tr>\n",
       "    <tr>\n",
       "      <th>2</th>\n",
       "      <td>0.7</td>\n",
       "      <td>64.018614</td>\n",
       "      <td>56.015910</td>\n",
       "    </tr>\n",
       "    <tr>\n",
       "      <th>3</th>\n",
       "      <td>0.8</td>\n",
       "      <td>66.245637</td>\n",
       "      <td>54.192907</td>\n",
       "    </tr>\n",
       "    <tr>\n",
       "      <th>4</th>\n",
       "      <td>0.9</td>\n",
       "      <td>57.952468</td>\n",
       "      <td>16.605900</td>\n",
       "    </tr>\n",
       "  </tbody>\n",
       "</table>\n",
       "</div>"
      ],
      "text/plain": [
       "     p  accuracy score  perc_correct_score\n",
       "0  0.5       50.141266          100.000000\n",
       "1  0.6       64.018614           56.015910\n",
       "2  0.7       64.018614           56.015910\n",
       "3  0.8       66.245637           54.192907\n",
       "4  0.9       57.952468           16.605900"
      ]
     },
     "execution_count": 60,
     "metadata": {},
     "output_type": "execute_result"
    }
   ],
   "source": [
    "p_acc_array = []\n",
    "p_perc_array = []\n",
    "for i in range(len(y_predict_all)):\n",
    "    p_acc_array.append(100*accuracy_score(y_true, y_predict_all[i]))\n",
    "    p_perc_array.append(perc_correct(y_true, y_predict_all[i]))\n",
    "\n",
    "pd.DataFrame({\"p\": [0.5, 0.6, 0.7, 0.8, 0.9], \"accuracy score\": p_acc_array, \"perc_correct_score\":p_perc_array})"
   ]
  },
  {
   "cell_type": "code",
   "execution_count": 63,
   "metadata": {},
   "outputs": [
    {
     "name": "stdout",
     "output_type": "stream",
     "text": [
      "shivam mishra\n"
     ]
    }
   ],
   "source": [
    "print('shivam mishra')"
   ]
  },
  {
   "cell_type": "code",
   "execution_count": null,
   "metadata": {},
   "outputs": [],
   "source": []
  }
 ],
 "metadata": {
  "kernelspec": {
   "display_name": "Python 3",
   "language": "python",
   "name": "python3"
  },
  "language_info": {
   "codemirror_mode": {
    "name": "ipython",
    "version": 3
   },
   "file_extension": ".py",
   "mimetype": "text/x-python",
   "name": "python",
   "nbconvert_exporter": "python",
   "pygments_lexer": "ipython3",
   "version": "3.7.5"
  }
 },
 "nbformat": 4,
 "nbformat_minor": 4
}
